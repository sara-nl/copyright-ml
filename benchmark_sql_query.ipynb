{
 "cells": [
  {
   "cell_type": "markdown",
   "metadata": {},
   "source": [
    "## Imports"
   ]
  },
  {
   "cell_type": "code",
   "execution_count": 1,
   "metadata": {},
   "outputs": [],
   "source": [
    "import json\n",
    "import numpy as np\n",
    "import pandas as pd\n",
    "from sklearn.preprocessing import LabelEncoder\n",
    "from sklearn.model_selection import train_test_split\n",
    "from sklearn.model_selection import StratifiedKFold\n",
    "from sklearn.metrics import classification_report\n",
    "from sklearn.metrics import confusion_matrix\n",
    "from sklearn.metrics import ConfusionMatrixDisplay\n",
    "from sklearn.metrics import accuracy_score\n",
    "from sklearn.metrics import f1_score\n",
    "import xgboost as xgb\n",
    "import matplotlib.pyplot as plt"
   ]
  },
  {
   "cell_type": "markdown",
   "metadata": {},
   "source": [
    "## Read & preprocess data"
   ]
  },
  {
   "cell_type": "code",
   "execution_count": 3,
   "metadata": {},
   "outputs": [
    {
     "name": "stdout",
     "output_type": "stream",
     "text": [
      "<class 'pandas.core.frame.DataFrame'>\n",
      "Int64Index: 971 entries, 0 to 1098\n",
      "Data columns (total 96 columns):\n",
      " #   Column                                Non-Null Count  Dtype  \n",
      "---  ------                                --------------  -----  \n",
      " 0   id                                    971 non-null    int64  \n",
      " 1   uuid                                  971 non-null    object \n",
      " 2   url                                   971 non-null    object \n",
      " 3   filesource                            971 non-null    object \n",
      " 4   filestatus                            971 non-null    int64  \n",
      " 5   filemimetype                          971 non-null    object \n",
      " 6   filename                              971 non-null    object \n",
      " 7   filehash                              971 non-null    object \n",
      " 8   filedate                              734 non-null    object \n",
      " 9   lastmodifieddate                      842 non-null    object \n",
      " 10  isfilepublished                       971 non-null    bool   \n",
      " 11  wordcount                             971 non-null    int64  \n",
      " 12  pagecount                             971 non-null    int64  \n",
      " 13  filescanresults                       971 non-null    int64  \n",
      " 14  doi                                   94 non-null     object \n",
      " 15  issn                                  0 non-null      float64\n",
      " 16  isbn                                  54 non-null     object \n",
      " 17  author                                535 non-null    object \n",
      " 18  title                                 458 non-null    object \n",
      " 19  publisher                             42 non-null     object \n",
      " 20  publicationyear                       94 non-null     float64\n",
      " 21  sourcepagecount                       971 non-null    int64  \n",
      " 22  sourcewordcount                       971 non-null    int64  \n",
      " 23  usedpages                             0 non-null      float64\n",
      " 24  filetype                              971 non-null    int64  \n",
      " 25  userexcludedforscan                   971 non-null    bool   \n",
      " 26  usedmultiplesources                   971 non-null    bool   \n",
      " 27  isopenaccesstitle                     971 non-null    bool   \n",
      " 28  openaccesslink                        30 non-null     object \n",
      " 29  apacitation                           971 non-null    object \n",
      " 30  contactcomment                        971 non-null    object \n",
      " 31  skippedcomment                        971 non-null    object \n",
      " 32  finaladvice                           971 non-null    object \n",
      " 33  creator                               852 non-null    object \n",
      " 34  depublicationdate                     0 non-null      float64\n",
      " 35  document                              0 non-null      float64\n",
      " 36  filepath                              0 non-null      float64\n",
      " 37  filesize                              971 non-null    float64\n",
      " 38  first_scan_result                     971 non-null    object \n",
      " 39  first_scan_result_date                971 non-null    object \n",
      " 40  human_intervention                    971 non-null    bool   \n",
      " 41  incollection                          971 non-null    bool   \n",
      " 42  institution_intervention_result       0 non-null      float64\n",
      " 43  institution_intervention_result_date  0 non-null      float64\n",
      " 44  last_scan_result                      971 non-null    object \n",
      " 45  last_scan_result_date                 971 non-null    object \n",
      " 46  oclcnumber                            971 non-null    int64  \n",
      " 47  openaccesscolor                       94 non-null     object \n",
      " 48  picturecount                          971 non-null    int64  \n",
      " 49  prediction                            971 non-null    object \n",
      " 50  predictionmatrix                      971 non-null    object \n",
      " 51  publicationdate                       0 non-null      float64\n",
      " 52  recordlastmodified                    971 non-null    object \n",
      " 53  reliability                           971 non-null    int64  \n",
      " 54  rescan                                971 non-null    bool   \n",
      " 55  runidentifier                         0 non-null      float64\n",
      " 56  course_id                             971 non-null    int64  \n",
      " 57  jstor                                 971 non-null    object \n",
      " 58  always                                971 non-null    object \n",
      " 59  doi_in_oa                             971 non-null    object \n",
      " 60  name                                  971 non-null    object \n",
      " 61  manual_classification                 970 non-null    object \n",
      " 62  remarks                               828 non-null    object \n",
      " 63  DOI_in_OA                             971 non-null    object \n",
      " 64  DOI_no_PPT                            971 non-null    object \n",
      " 65  PPT_in_name                           971 non-null    object \n",
      " 66  ppt_creator                           971 non-null    object \n",
      " 67  wordcount_o                           971 non-null    object \n",
      " 68  10_pics_page                          971 non-null    object \n",
      " 69  Contains_DOI                          971 non-null    object \n",
      " 70  Contains_ISBN                         971 non-null    object \n",
      " 71  creator_abbyy                         971 non-null    object \n",
      " 72  words_page>350                        971 non-null    object \n",
      " 73  doc in metadata                       971 non-null    object \n",
      " 74  keyword_creator                       971 non-null    object \n",
      " 75  ppt in metadata                       971 non-null    object \n",
      " 76  Creative commons                      971 non-null    object \n",
      " 77  Words_more_300pp                      971 non-null    object \n",
      " 78  file_ext_mp3_wav                      971 non-null    object \n",
      " 79  file_ext_mp4_mov                      971 non-null    object \n",
      " 80  10>_Pagecount_<50                     971 non-null    object \n",
      " 81  Contains_copyright                    971 non-null    object \n",
      " 82  Kleiner_10_paginas                    971 non-null    object \n",
      " 83  filename_indicator                    971 non-null    object \n",
      " 84  Contains_sciencemag                   971 non-null    object \n",
      " 85  Pagecount_bigger_50                   971 non-null    object \n",
      " 86  book_and_words<10000                  971 non-null    object \n",
      " 87  Contains_published_in                 971 non-null    object \n",
      " 88  Contains_researchgate                 971 non-null    object \n",
      " 89  Contains_to_appear_in                 971 non-null    object \n",
      " 90  Is_journal_words<8000                 971 non-null    object \n",
      " 91  images_same_pagecount                 971 non-null    object \n",
      " 92  xls in metadata titel                 971 non-null    object \n",
      " 93  Publisher_from_crossref               971 non-null    object \n",
      " 94  Contains_recommended_citation         971 non-null    object \n",
      " 95  Minder dan 50 woorden per pagina      971 non-null    object \n",
      "dtypes: bool(7), float64(11), int64(12), object(66)\n",
      "memory usage: 721.7+ KB\n"
     ]
    }
   ],
   "source": [
    "df = pd.read_csv(\n",
    "    './Data/data-1666778624300.csv'\n",
    ")\n",
    "\n",
    "df.drop_duplicates(inplace=True, ignore_index=True)\n",
    "df[\"debug\"] = df[\"debug\"].apply(lambda x : json.loads(x))\n",
    "df = df.loc[df[\"debug\"] != {}]\n",
    "\n",
    "extra_cols = df[\"debug\"][0].keys()\n",
    "for col in extra_cols:\n",
    "    values = [x[col] for x in df[\"debug\"]]\n",
    "    df[col] = values\n",
    "df.drop(\"debug\", axis=\"columns\", inplace=True)\n",
    "df.info()"
   ]
  },
  {
   "cell_type": "code",
   "execution_count": 4,
   "metadata": {},
   "outputs": [
    {
     "data": {
      "text/plain": [
       "970"
      ]
     },
     "execution_count": 4,
     "metadata": {},
     "output_type": "execute_result"
    }
   ],
   "source": [
    "len(df.loc[df[\"manual_classification\"].notna()])"
   ]
  },
  {
   "cell_type": "markdown",
   "metadata": {},
   "source": [
    "#### The following columns contain only null values and will not be used:\n",
    "\n",
    "<ul>\n",
    "    <li> 'issn'\n",
    "    <li> 'usedpages'\n",
    "    <li> 'depublicationdate'\n",
    "    <li> 'document'\n",
    "    <li> 'filepath'\n",
    "    <li> 'institution_intervention_result'\n",
    "    <li> 'institution_intervention_result_date'\n",
    "    <li> 'publicationdate'\n",
    "    <li> 'runidentifier'\n",
    "</ul>\n"
   ]
  },
  {
   "cell_type": "code",
   "execution_count": 5,
   "metadata": {},
   "outputs": [],
   "source": [
    "# for col in df.columns:\n",
    "#     if df[col].isna().all():\n",
    "#         print(col)\n",
    "df.dropna(axis=1, how=\"all\", inplace=True)"
   ]
  },
  {
   "cell_type": "markdown",
   "metadata": {},
   "source": [
    "#### The following columns concern the predictions and will not be used as input:\n",
    "\n",
    "<ul>\n",
    "    <li> 'predictionmatrix'\n",
    "    <li> 'prediction'\n",
    "    <li> 'first_scan_result'\n",
    "    <li> 'last_scan_result'\n",
    "    <li> 'manual_classification'\n",
    "</ul>\n",
    "\n",
    "The column 'manual_classification' will be used as label, therefore all rows where this column has a null-value will be dropped. The other two columns will be dropped."
   ]
  },
  {
   "cell_type": "code",
   "execution_count": 6,
   "metadata": {},
   "outputs": [],
   "source": [
    "df.drop(['predictionmatrix', 'prediction', 'first_scan_result', 'last_scan_result'], axis=\"columns\", inplace=True)\n",
    "df.dropna(subset=['manual_classification'], inplace=True)"
   ]
  },
  {
   "cell_type": "markdown",
   "metadata": {},
   "source": [
    "#### The following columns will not be used:\n",
    "\n",
    "<ul>\n",
    "    <li>'id' \n",
    "    <li>'uuid' \n",
    "    <li>'url' \n",
    "    <li>'filesource' \n",
    "    <li>'filename' \n",
    "    <li>'filehash' \n",
    "    <li>'filedate' \n",
    "    <li>'filemimetype' \n",
    "    <li>'lastmodifieddate'\n",
    "    <li>'filescanresults' \n",
    "    <li>'doi'\n",
    "    <li>'isbn' \n",
    "    <li>'author' \n",
    "    <li>'title' \n",
    "    <li>'publisher' \n",
    "    <li>'publicationyear'\n",
    "    <li>'sourcepagecount' \n",
    "    <li>'sourcewordcount' \n",
    "    <li>'filetype' \n",
    "    <li>'userexcludedforscan'\n",
    "    <li>'usedmultiplesources' \n",
    "    <li>'openaccesslink'\n",
    "    <li>'apacitation' \n",
    "    <li>'contactcomment' \n",
    "    <li>'skippedcomment' \n",
    "    <li>'finaladvice'\n",
    "    <li>'creator' \n",
    "    <li>'first_scan_result_date'\n",
    "    <li>'human_intervention' \n",
    "    <li>'last_scan_result_date' \n",
    "    <li>'oclcnumber' \n",
    "    <li>'recordlastmodified' \n",
    "    <li>'rescan'\n",
    "    <li>'course_id' \n",
    "    <li>'jstor' \n",
    "    <li>'always' \n",
    "    <li>'name'\n",
    "    <li>'remarks'\n",
    "    <li>'doc in metadata'\n",
    "    <li>'ppt in metadata'\n",
    "    <li>'file_ext_mp4_mov'\n",
    "    <li>'file_ext_mp3_wav'\n",
    "    <li>'Contains_sciencemag'\n",
    "    <li>'Contains_researchgate'\n",
    "    <li>'Contains_to_appear_in'\n",
    "    <li>'Is_journal_words<8000'\n",
    "    <li>'xls in metadata titel'\n",
    "    <li>'Publisher_from_crossref'\n",
    "    <li>'Contains_recommended_citation'\n",
    "</ul>\n",
    "\n"
   ]
  },
  {
   "cell_type": "code",
   "execution_count": 7,
   "metadata": {},
   "outputs": [
    {
     "name": "stdout",
     "output_type": "stream",
     "text": [
      "<class 'pandas.core.frame.DataFrame'>\n",
      "Int64Index: 970 entries, 0 to 1098\n",
      "Data columns (total 34 columns):\n",
      " #   Column                            Non-Null Count  Dtype  \n",
      "---  ------                            --------------  -----  \n",
      " 0   filestatus                        970 non-null    int64  \n",
      " 1   isfilepublished                   970 non-null    bool   \n",
      " 2   wordcount                         970 non-null    int64  \n",
      " 3   pagecount                         970 non-null    int64  \n",
      " 4   isopenaccesstitle                 970 non-null    bool   \n",
      " 5   filesize                          970 non-null    float64\n",
      " 6   incollection                      970 non-null    bool   \n",
      " 7   openaccesscolor                   94 non-null     object \n",
      " 8   picturecount                      970 non-null    int64  \n",
      " 9   reliability                       970 non-null    int64  \n",
      " 10  doi_in_oa                         970 non-null    object \n",
      " 11  manual_classification             970 non-null    object \n",
      " 12  DOI_in_OA                         970 non-null    object \n",
      " 13  DOI_no_PPT                        970 non-null    object \n",
      " 14  PPT_in_name                       970 non-null    object \n",
      " 15  ppt_creator                       970 non-null    object \n",
      " 16  wordcount_o                       970 non-null    object \n",
      " 17  10_pics_page                      970 non-null    object \n",
      " 18  Contains_DOI                      970 non-null    object \n",
      " 19  Contains_ISBN                     970 non-null    object \n",
      " 20  creator_abbyy                     970 non-null    object \n",
      " 21  words_page>350                    970 non-null    object \n",
      " 22  keyword_creator                   970 non-null    object \n",
      " 23  Creative commons                  970 non-null    object \n",
      " 24  Words_more_300pp                  970 non-null    object \n",
      " 25  10>_Pagecount_<50                 970 non-null    object \n",
      " 26  Contains_copyright                970 non-null    object \n",
      " 27  Kleiner_10_paginas                970 non-null    object \n",
      " 28  filename_indicator                970 non-null    object \n",
      " 29  Pagecount_bigger_50               970 non-null    object \n",
      " 30  book_and_words<10000              970 non-null    object \n",
      " 31  Contains_published_in             970 non-null    object \n",
      " 32  images_same_pagecount             970 non-null    object \n",
      " 33  Minder dan 50 woorden per pagina  970 non-null    object \n",
      "dtypes: bool(3), float64(1), int64(5), object(25)\n",
      "memory usage: 245.3+ KB\n"
     ]
    }
   ],
   "source": [
    "skipped_cols = ['id', 'uuid', 'url', 'filesource',\n",
    "'filename', 'filehash', 'filedate', 'filemimetype', 'lastmodifieddate',\n",
    "'filescanresults', 'doi',\n",
    "'isbn', 'author', 'title', 'publisher', 'publicationyear',\n",
    "'sourcepagecount', 'sourcewordcount', 'filetype', 'userexcludedforscan',\n",
    "'usedmultiplesources', 'openaccesslink',\n",
    "'apacitation', 'contactcomment', 'skippedcomment', 'finaladvice',\n",
    "'creator', 'first_scan_result_date',\n",
    "'human_intervention', 'last_scan_result_date', 'oclcnumber', 'recordlastmodified', 'rescan',\n",
    "'course_id', 'jstor', 'always', 'name', 'remarks', 'doc in metadata', 'ppt in metadata', \n",
    "'file_ext_mp4_mov', 'file_ext_mp3_wav', 'Contains_sciencemag', 'Contains_researchgate',\n",
    "'Contains_to_appear_in', 'Is_journal_words<8000', 'xls in metadata titel',\n",
    "'Publisher_from_crossref', 'Contains_recommended_citation']\n",
    "\n",
    "df.drop(skipped_cols, axis='columns', inplace=True)\n",
    "df.info()"
   ]
  },
  {
   "cell_type": "code",
   "execution_count": 8,
   "metadata": {},
   "outputs": [],
   "source": [
    "df[\"openaccesscolor\"].fillna(\"nan\", inplace=True)\n",
    "\n",
    "encoder_openaccescolor = LabelEncoder()\n",
    "encoder_openaccescolor.fit(df[\"openaccesscolor\"])\n",
    "df[\"openaccesscolor\"] = df[\"openaccesscolor\"].apply(lambda x : encoder_openaccescolor.transform([x])[0])\n",
    "np.save(\"FittedEncoders/encoder_openaccescolor_classes.npy\", encoder_openaccescolor.classes_)"
   ]
  },
  {
   "cell_type": "markdown",
   "metadata": {},
   "source": [
    "#### Fix dtype object"
   ]
  },
  {
   "cell_type": "code",
   "execution_count": 9,
   "metadata": {},
   "outputs": [
    {
     "data": {
      "text/plain": [
       "27"
      ]
     },
     "execution_count": 9,
     "metadata": {},
     "output_type": "execute_result"
    }
   ],
   "source": [
    "object_cols = [col for col in df.columns if df[col].dtype == 'object' or df[col].dtype == 'bool']\n",
    "len(object_cols)"
   ]
  },
  {
   "cell_type": "markdown",
   "metadata": {},
   "source": [
    "The code below creates a profiling report before we change the boolean feature, here we can see that False is the domininant class."
   ]
  },
  {
   "cell_type": "code",
   "execution_count": 10,
   "metadata": {},
   "outputs": [],
   "source": [
    "# import sys\n",
    "# !{sys.executable} -m pip install -U pandas-profiling[notebook]\n",
    "# !jupyter nbextension enable --py widgetsnbextension\n",
    "# from pandas_profiling import ProfileReport\n",
    "\n",
    "# profile = ProfileReport(df.reset_index(drop=True), title=\"Pandas Profiling Report\")\n",
    "# profile.to_file(\"pandas_sql_report_bools_unchanged.html\")"
   ]
  },
  {
   "cell_type": "code",
   "execution_count": 11,
   "metadata": {},
   "outputs": [],
   "source": [
    "for col in object_cols:\n",
    "    if set(df[col].dropna().unique()) == {False, True}:\n",
    "        df.loc[df[col] == True, col] = 1\n",
    "        df.loc[df[col] == False, col] = 0\n",
    "        df[col] = df[col].fillna(0)\n",
    "        df[col] = df[col].astype(\"int\")\n",
    "    if set(df[col].dropna().unique()) == {\"False\", \"True\"}:\n",
    "        df.loc[df[col] == \"True\", col] = 1\n",
    "        df.loc[df[col] == \"False\", col] = 0\n",
    "        df[col] = df[col].fillna(0)\n",
    "        df[col] = df[col].astype(\"int\")\n",
    "    if set(df[col].dropna().unique()) == {'\"False\"', '\"True\"'}:\n",
    "        df.loc[df[col] == '\"True\"', col] = 1\n",
    "        df.loc[df[col] == '\"False\"', col] = 0\n",
    "        df[col] = df[col].fillna(0)\n",
    "        df[col] = df[col].astype(\"int\")\n",
    "    elif len(set(df[col].dropna().unique())) == 1:\n",
    "        df.drop(col, axis=1, inplace=True)"
   ]
  },
  {
   "cell_type": "code",
   "execution_count": null,
   "metadata": {},
   "outputs": [],
   "source": [
    "# import sys\n",
    "# !{sys.executable} -m pip install -U pandas-profiling[notebook]\n",
    "# !jupyter nbextension enable --py widgetsnbextension\n",
    "# from pandas_profiling import ProfileReport\n",
    "\n",
    "# profile = ProfileReport(df.reset_index(drop=True), title=\"Pandas Profiling Report\")\n",
    "# profile.to_file(\"pandas_sql_report.html\")"
   ]
  },
  {
   "cell_type": "code",
   "execution_count": null,
   "metadata": {},
   "outputs": [],
   "source": [
    "df.drop_duplicates(inplace=True, ignore_index=True)\n",
    "df.info()"
   ]
  },
  {
   "cell_type": "markdown",
   "metadata": {},
   "source": [
    "## Labels' support\n",
    "\n",
    "Let's take a look at the support of each label, i.e., how often does each label occur in the dataset."
   ]
  },
  {
   "cell_type": "code",
   "execution_count": null,
   "metadata": {},
   "outputs": [],
   "source": [
    "len(df)"
   ]
  },
  {
   "cell_type": "code",
   "execution_count": null,
   "metadata": {},
   "outputs": [],
   "source": [
    "labels = df[\"manual_classification\"]\n",
    "unique_labels = labels.unique()\n",
    "\n",
    "for label in unique_labels:\n",
    "    print('{:<32}  {:>3}'.format(label, (labels == label).sum()))"
   ]
  },
  {
   "cell_type": "code",
   "execution_count": null,
   "metadata": {},
   "outputs": [],
   "source": [
    "df.loc[df[\"manual_classification\"] == \"eigen materiaal - titelindicatie\", \"manual_classification\"] = \"eigen materiaal - overig\"\n",
    "df = df[df.manual_classification != \"verwijderverzoek verstuurd\"]\n",
    "df = df[df.manual_classification != \"in onderzoek\"]\n",
    "df = df[df.manual_classification != \"onbekend\"]\n",
    "df = df[df.manual_classification != \"licentie beschikbaar\"]\n",
    "\n",
    "labels = df[\"manual_classification\"]\n",
    "unique_labels = labels.unique()\n",
    "\n",
    "for label in unique_labels:\n",
    "    print('{:<32}  {:>3}'.format(label, (labels == label).sum()))"
   ]
  },
  {
   "cell_type": "markdown",
   "metadata": {},
   "source": [
    "## Prepare data\n",
    "\n",
    "Split the data frame into x and encoded y, which we transform to numpy arrays. "
   ]
  },
  {
   "cell_type": "code",
   "execution_count": null,
   "metadata": {},
   "outputs": [],
   "source": [
    "x = df.drop([\"manual_classification\"], axis=\"columns\").to_numpy()"
   ]
  },
  {
   "cell_type": "code",
   "execution_count": null,
   "metadata": {},
   "outputs": [],
   "source": [
    "label_encoder = LabelEncoder()\n",
    "y = label_encoder.fit_transform(df[\"manual_classification\"])\n",
    "np.save(\"FittedEncoders/label_encoder_classes.npy\", label_encoder.classes_)"
   ]
  },
  {
   "cell_type": "code",
   "execution_count": null,
   "metadata": {},
   "outputs": [],
   "source": [
    "x_train, x_test, y_train, y_test = train_test_split(x, y, test_size=0.3, random_state=42)"
   ]
  },
  {
   "cell_type": "code",
   "execution_count": null,
   "metadata": {},
   "outputs": [],
   "source": [
    "skf = StratifiedKFold(n_splits=5, shuffle=True, random_state=42)"
   ]
  },
  {
   "cell_type": "markdown",
   "metadata": {},
   "source": [
    "## XGBoost model\n",
    "\n",
    "There are many features with high correlation. XGBoost is not so sensitive to this. Another benefit of XGBoost is the ability to get feature importances quite easily.\n",
    "\n",
    "#### Train using a simple data split\n",
    "\n",
    "This makes is easy to use sklearn's classification report functionality, so we can very quickly evaluate how the model performs per class."
   ]
  },
  {
   "cell_type": "code",
   "execution_count": null,
   "metadata": {},
   "outputs": [],
   "source": [
    "xgb_model = xgb.XGBClassifier()\n",
    "xgb_model.fit(x_train, y_train)\n",
    "\n",
    "predictions = xgb_model.predict(x_test)\n",
    "report = classification_report(y_test, predictions, target_names=label_encoder.classes_, labels=np.unique(y_train))\n",
    "print(report)"
   ]
  },
  {
   "cell_type": "markdown",
   "metadata": {},
   "source": [
    "#### Confusion matrix\n",
    "\n",
    "Let's take a look at a more detailed confusion matrix."
   ]
  },
  {
   "cell_type": "code",
   "execution_count": null,
   "metadata": {},
   "outputs": [],
   "source": [
    "cm = confusion_matrix(y_test, predictions, labels=np.unique(y_train))\n",
    "display = ConfusionMatrixDisplay.from_predictions(y_test, predictions, display_labels=label_encoder.classes_, xticks_rotation=\"vertical\")\n",
    "display.plot()\n",
    "plt.show()"
   ]
  },
  {
   "cell_type": "markdown",
   "metadata": {},
   "source": [
    "#### Train using K-fold\n",
    "\n",
    "This gives us a more reliable accuracy and F1-score, as we eliminate the risk of testing on a particularly favorable or unfavorable test partition.\n",
    "\n",
    "(It is also useful for hyperparameter optimization, should we choose to add that in later.)"
   ]
  },
  {
   "cell_type": "code",
   "execution_count": null,
   "metadata": {},
   "outputs": [],
   "source": [
    "accuracy_scores = 0.0\n",
    "f1_scores = 0.0\n",
    "\n",
    "for train_index, test_index in skf.split(x, y):\n",
    "    x_train, x_test = x[train_index], x[test_index]\n",
    "    y_train, y_test = y[train_index], y[test_index]\n",
    "    xgb_model = xgb.XGBClassifier()\n",
    "    xgb_model.fit(x_train, y_train)\n",
    "    predictions = xgb_model.predict(x_test)\n",
    "    accuracy_scores += accuracy_score(y_test, predictions)\n",
    "    f1_scores += f1_score(y_test, predictions, average=\"macro\")\n",
    "\n",
    "print(\"Acc: \", accuracy_scores/5)\n",
    "print(\"F1: \", f1_scores/5)"
   ]
  },
  {
   "cell_type": "markdown",
   "metadata": {},
   "source": [
    "#### Train on all data and save"
   ]
  },
  {
   "cell_type": "code",
   "execution_count": null,
   "metadata": {},
   "outputs": [],
   "source": [
    "xgb_model = xgb.XGBClassifier()\n",
    "xgb_model.fit(x, y)\n",
    "\n",
    "xgb_model.save_model(\"TrainedModels/xgboost_sql_data.json\")"
   ]
  },
  {
   "cell_type": "markdown",
   "metadata": {},
   "source": [
    "#### Feature importances"
   ]
  },
  {
   "cell_type": "code",
   "execution_count": null,
   "metadata": {},
   "outputs": [],
   "source": [
    "# xgb_model = xgb.XGBClassifier(max_depth=24)\n",
    "# xgb_model.fit(x, y)\n",
    "\n",
    "feature_names = df.drop(\"manual_classification\", axis=\"columns\").columns.to_numpy()\n",
    "feature_importance_scores = xgb_model.feature_importances_\n",
    "\n",
    "top_five_indices = np.argpartition(feature_importance_scores, (-5, -1))[-5:]\n",
    "top_five_scores = feature_importance_scores[top_five_indices][::-1]\n",
    "top_five_names = feature_names[top_five_indices][::-1]\n",
    "\n",
    "print(\"TOP FIVE\\n---------------------------------\")\n",
    "for name, score in zip(top_five_names, top_five_scores):\n",
    "    print('{:<18}  {:>3}'.format(name, score))\n",
    "\n",
    "\n",
    "print(\"\\n\\n\\nZERO SCORE\\n---------------------------------\")\n",
    "zero_score_indices = np.argwhere(feature_importance_scores == 0).flatten()\n",
    "zero_score_features = feature_names[zero_score_indices]\n",
    "\n",
    "for feature in zero_score_features:\n",
    "    print(feature)"
   ]
  }
 ],
 "metadata": {
  "kernelspec": {
   "display_name": "Python 3.8.10 ('venv': venv)",
   "language": "python",
   "name": "python3"
  },
  "language_info": {
   "codemirror_mode": {
    "name": "ipython",
    "version": 3
   },
   "file_extension": ".py",
   "mimetype": "text/x-python",
   "name": "python",
   "nbconvert_exporter": "python",
   "pygments_lexer": "ipython3",
   "version": "3.8.10"
  },
  "orig_nbformat": 4,
  "vscode": {
   "interpreter": {
    "hash": "054e63ccd0723eba59e4e775f028e662383a4d3e051ddb13b43bfc67a74f1731"
   }
  }
 },
 "nbformat": 4,
 "nbformat_minor": 2
}
